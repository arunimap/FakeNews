{
 "cells": [
  {
   "cell_type": "markdown",
   "metadata": {},
   "source": [
    "# Fake News Detection\n",
    "\n",
    "This project aims to provide a solution to the problem of distinguishing real and fake news. "
   ]
  },
  {
   "cell_type": "code",
   "execution_count": 144,
   "metadata": {},
   "outputs": [],
   "source": [
    "import random\n",
    "import math\n",
    "import matplotlib.pyplot as plt\n",
    "import pandas as pd\n",
    "import numpy as np\n",
    "\n",
    "import time\n",
    "import string\n",
    "import nltk\n",
    "from nltk.corpus import stopwords \n",
    "\n",
    "from sklearn.utils import shuffle\n",
    "from sklearn.feature_extraction.text import TfidfVectorizer \n",
    "from sklearn.svm import SVC\n",
    "from sklearn.model_selection import KFold\n",
    "from sklearn.metrics import classification_report, precision_score, recall_score, plot_confusion_matrix"
   ]
  },
  {
   "cell_type": "markdown",
   "metadata": {},
   "source": [
    "## Data import and cleaning"
   ]
  },
  {
   "cell_type": "code",
   "execution_count": 2,
   "metadata": {},
   "outputs": [
    {
     "data": {
      "text/html": [
       "<div>\n",
       "<style scoped>\n",
       "    .dataframe tbody tr th:only-of-type {\n",
       "        vertical-align: middle;\n",
       "    }\n",
       "\n",
       "    .dataframe tbody tr th {\n",
       "        vertical-align: top;\n",
       "    }\n",
       "\n",
       "    .dataframe thead th {\n",
       "        text-align: right;\n",
       "    }\n",
       "</style>\n",
       "<table border=\"1\" class=\"dataframe\">\n",
       "  <thead>\n",
       "    <tr style=\"text-align: right;\">\n",
       "      <th></th>\n",
       "      <th>title</th>\n",
       "      <th>text</th>\n",
       "      <th>subject</th>\n",
       "      <th>date</th>\n",
       "    </tr>\n",
       "  </thead>\n",
       "  <tbody>\n",
       "    <tr>\n",
       "      <th>0</th>\n",
       "      <td>As U.S. budget fight looms, Republicans flip t...</td>\n",
       "      <td>WASHINGTON (Reuters) - The head of a conservat...</td>\n",
       "      <td>politicsNews</td>\n",
       "      <td>December 31, 2017</td>\n",
       "    </tr>\n",
       "    <tr>\n",
       "      <th>1</th>\n",
       "      <td>U.S. military to accept transgender recruits o...</td>\n",
       "      <td>WASHINGTON (Reuters) - Transgender people will...</td>\n",
       "      <td>politicsNews</td>\n",
       "      <td>December 29, 2017</td>\n",
       "    </tr>\n",
       "    <tr>\n",
       "      <th>2</th>\n",
       "      <td>Senior U.S. Republican senator: 'Let Mr. Muell...</td>\n",
       "      <td>WASHINGTON (Reuters) - The special counsel inv...</td>\n",
       "      <td>politicsNews</td>\n",
       "      <td>December 31, 2017</td>\n",
       "    </tr>\n",
       "    <tr>\n",
       "      <th>3</th>\n",
       "      <td>FBI Russia probe helped by Australian diplomat...</td>\n",
       "      <td>WASHINGTON (Reuters) - Trump campaign adviser ...</td>\n",
       "      <td>politicsNews</td>\n",
       "      <td>December 30, 2017</td>\n",
       "    </tr>\n",
       "    <tr>\n",
       "      <th>4</th>\n",
       "      <td>Trump wants Postal Service to charge 'much mor...</td>\n",
       "      <td>SEATTLE/WASHINGTON (Reuters) - President Donal...</td>\n",
       "      <td>politicsNews</td>\n",
       "      <td>December 29, 2017</td>\n",
       "    </tr>\n",
       "  </tbody>\n",
       "</table>\n",
       "</div>"
      ],
      "text/plain": [
       "                                               title  \\\n",
       "0  As U.S. budget fight looms, Republicans flip t...   \n",
       "1  U.S. military to accept transgender recruits o...   \n",
       "2  Senior U.S. Republican senator: 'Let Mr. Muell...   \n",
       "3  FBI Russia probe helped by Australian diplomat...   \n",
       "4  Trump wants Postal Service to charge 'much mor...   \n",
       "\n",
       "                                                text       subject  \\\n",
       "0  WASHINGTON (Reuters) - The head of a conservat...  politicsNews   \n",
       "1  WASHINGTON (Reuters) - Transgender people will...  politicsNews   \n",
       "2  WASHINGTON (Reuters) - The special counsel inv...  politicsNews   \n",
       "3  WASHINGTON (Reuters) - Trump campaign adviser ...  politicsNews   \n",
       "4  SEATTLE/WASHINGTON (Reuters) - President Donal...  politicsNews   \n",
       "\n",
       "                 date  \n",
       "0  December 31, 2017   \n",
       "1  December 29, 2017   \n",
       "2  December 31, 2017   \n",
       "3  December 30, 2017   \n",
       "4  December 29, 2017   "
      ]
     },
     "execution_count": 2,
     "metadata": {},
     "output_type": "execute_result"
    }
   ],
   "source": [
    "## Data sets from https://www.kaggle.com/clmentbisaillon/fake-and-real-news-dataset\n",
    "df_fake = pd.read_csv('data/Fake.csv')\n",
    "df_real = pd.read_csv('data/True.csv')\n",
    "\n",
    "df_real.head()"
   ]
  },
  {
   "cell_type": "code",
   "execution_count": 12,
   "metadata": {},
   "outputs": [
    {
     "name": "stdout",
     "output_type": "stream",
     "text": [
      "Data contains 179592 labeled news articles\n"
     ]
    },
    {
     "data": {
      "text/html": [
       "<div>\n",
       "<style scoped>\n",
       "    .dataframe tbody tr th:only-of-type {\n",
       "        vertical-align: middle;\n",
       "    }\n",
       "\n",
       "    .dataframe tbody tr th {\n",
       "        vertical-align: top;\n",
       "    }\n",
       "\n",
       "    .dataframe thead th {\n",
       "        text-align: right;\n",
       "    }\n",
       "</style>\n",
       "<table border=\"1\" class=\"dataframe\">\n",
       "  <thead>\n",
       "    <tr style=\"text-align: right;\">\n",
       "      <th></th>\n",
       "      <th>title</th>\n",
       "      <th>text</th>\n",
       "      <th>subject</th>\n",
       "      <th>label</th>\n",
       "    </tr>\n",
       "  </thead>\n",
       "  <tbody>\n",
       "    <tr>\n",
       "      <th>0</th>\n",
       "      <td>china partly lifts ban group tours south korea...</td>\n",
       "      <td>seoulbeijing reuters china allow travel agenci...</td>\n",
       "      <td>worldnews</td>\n",
       "      <td>REAL</td>\n",
       "    </tr>\n",
       "    <tr>\n",
       "      <th>1</th>\n",
       "      <td>great see trump told time sing national anthem...</td>\n",
       "      <td>saw live today fantastic difference special mo...</td>\n",
       "      <td>politics</td>\n",
       "      <td>FAKE</td>\n",
       "    </tr>\n",
       "    <tr>\n",
       "      <th>2</th>\n",
       "      <td>wow donald trump hammers obama “terrible deal ...</td>\n",
       "      <td>bravo spot onclick picture watch terrible deal...</td>\n",
       "      <td>Government News</td>\n",
       "      <td>FAKE</td>\n",
       "    </tr>\n",
       "    <tr>\n",
       "      <th>3</th>\n",
       "      <td>mueller’s latest request russia investigation ...</td>\n",
       "      <td>special counsel robert mueller dropped yet ano...</td>\n",
       "      <td>News</td>\n",
       "      <td>FAKE</td>\n",
       "    </tr>\n",
       "    <tr>\n",
       "      <th>4</th>\n",
       "      <td>breaking news sebastian gorka out…are ivanka j...</td>\n",
       "      <td>update white house official says sebastian gor...</td>\n",
       "      <td>left-news</td>\n",
       "      <td>FAKE</td>\n",
       "    </tr>\n",
       "  </tbody>\n",
       "</table>\n",
       "</div>"
      ],
      "text/plain": [
       "                                               title  \\\n",
       "0  china partly lifts ban group tours south korea...   \n",
       "1  great see trump told time sing national anthem...   \n",
       "2  wow donald trump hammers obama “terrible deal ...   \n",
       "3  mueller’s latest request russia investigation ...   \n",
       "4  breaking news sebastian gorka out…are ivanka j...   \n",
       "\n",
       "                                                text          subject label  \n",
       "0  seoulbeijing reuters china allow travel agenci...        worldnews  REAL  \n",
       "1  saw live today fantastic difference special mo...         politics  FAKE  \n",
       "2  bravo spot onclick picture watch terrible deal...  Government News  FAKE  \n",
       "3  special counsel robert mueller dropped yet ano...             News  FAKE  \n",
       "4  update white house official says sebastian gor...        left-news  FAKE  "
      ]
     },
     "execution_count": 12,
     "metadata": {},
     "output_type": "execute_result"
    }
   ],
   "source": [
    "## Label article types\n",
    "df_fake['label'] = 'FAKE'\n",
    "df_real['label'] = 'REAL'\n",
    "\n",
    "df = shuffle(pd.concat([df_fake, df_real])) # combine and shuffle data\n",
    "df.drop(['date'],axis=1,inplace=True) # drop not needed for current analysis\n",
    "df = df.dropna(axis=0).reset_index(drop=True)\n",
    "\n",
    "stops = stopwords.words('english')\n",
    "for col in ['title', 'text']: \n",
    "    df[col] = df[col].str.lower() # convert to lowercase for consistency\n",
    "    df[col] = df[col].apply(lambda s: s.translate(str.maketrans('', '', string.punctuation))) # strip punctuation   \n",
    "    df[col] = df[col].apply(lambda s: ' '.join([word for word in s.split() if word not in (stops)])) # exclude common words\n",
    "\n",
    "print('Data contains', df.size, 'labeled news articles')\n",
    "df.head()"
   ]
  },
  {
   "cell_type": "code",
   "execution_count": 68,
   "metadata": {},
   "outputs": [],
   "source": [
    "labels = df['label']"
   ]
  },
  {
   "cell_type": "markdown",
   "metadata": {},
   "source": [
    "# Proof of Model Concept"
   ]
  },
  {
   "cell_type": "code",
   "execution_count": 141,
   "metadata": {},
   "outputs": [],
   "source": [
    "vectorizer = TfidfVectorizer()\n",
    "\n",
    "splits = 3\n",
    "kf = KFold(n_splits=splits)\n",
    "\n",
    "df_sample = df.head(n=10000)"
   ]
  },
  {
   "cell_type": "markdown",
   "metadata": {},
   "source": [
    "### Text Model"
   ]
  },
  {
   "cell_type": "code",
   "execution_count": 146,
   "metadata": {},
   "outputs": [
    {
     "name": "stdout",
     "output_type": "stream",
     "text": [
      "[[1675   40]\n",
      " [  21 1598]]\n",
      "[[1654   37]\n",
      " [  14 1628]]\n",
      "[[1703   24]\n",
      " [  25 1581]]\n",
      "Time to run: 212.0901861190796\n"
     ]
    },
    {
     "data": {
      "image/png": "[encoded data removed]",
      "text/plain": [
       "<Figure size 432x288 with 1 Axes>"
      ]
     },
     "metadata": {
      "needs_background": "light"
     },
     "output_type": "display_data"
    }
   ],
   "source": [
    "text_start = time.time() ## start timer\n",
    "\n",
    "text_features = vectorizer.fit_transform(df_sample['text'])\n",
    "labels = df_sample['label']\n",
    "\n",
    "precision_real, recall_real  = 0, 0 \n",
    "precision_fake, recall_fake = 0, 0\n",
    "\n",
    "for train, test in kf.split(text_features):\n",
    "    model = SVC()\n",
    "    model.fit(text_features[train], labels.iloc[train]) # trains the data   \n",
    "    predicts =  model.predict(text_features[test])  # tests and predicts        \n",
    "    \n",
    "    print(metrics.confusion_matrix(labels[test].tolist(), predicts))\n",
    "\n",
    "    report = classification_report(labels[test], predicts, output_dict=True)\n",
    "    precision_real += report.get('REAL').get('precision')\n",
    "    recall_real += report.get('REAL').get('recall')\n",
    "    precision_fake += report.get('FAKE').get('precision')\n",
    "    recall_fake += report.get('FAKE').get('recall')\n",
    "    \n",
    "# calculate avg precision and recall from the n random samples\n",
    "precision_real /= splits\n",
    "precision_fake /= splits\n",
    "recall_real /= splits\n",
    "recall_fake /= splits\n",
    "\n",
    "text_end = time.time()\n",
    "print(\"Time to run:\", text_end - text_start)\n",
    "\n",
    "# Avg Precision-Accuracy graph ----------------------------------------------------------------------\n",
    "labels = ['Precision', 'Recall']\n",
    "decimal_places = 3\n",
    "real = (round(precision_real, decimal_places), round(recall_real, decimal_places))\n",
    "fake = (round(precision_fake, decimal_places), round(recall_fake, decimal_places))\n",
    "\n",
    "x = np.arange(len(labels))  # the label locations\n",
    "width = 0.35  # the width of the bars\n",
    "\n",
    "fig, ax = plt.subplots()\n",
    "rects1 = ax.bar(x - width/2, real, width, label='Real')\n",
    "rects2 = ax.bar(x + width/2, fake, width, label='Fake')\n",
    "\n",
    "ax.set_ylabel('Percent (%)')\n",
    "ax.set_title('Fake News Text Model Accuracy by Label')\n",
    "ax.set_xticks(x)\n",
    "ax.set_xticklabels(labels)\n",
    "ax.legend()\n",
    "\n",
    "def autolabel(rects):\n",
    "    for rect in rects:\n",
    "        height = rect.get_height()\n",
    "        ax.annotate('{}'.format(height),\n",
    "                    xy=(rect.get_x() + rect.get_width() / 2, height),\n",
    "                    xytext=(0, -20),  # 3 points vertical offset\n",
    "                    textcoords=\"offset points\",\n",
    "                    ha='center', va='bottom')\n",
    "\n",
    "autolabel(rects1)\n",
    "autolabel(rects2)\n",
    "fig.tight_layout()\n",
    "plt.show()"
   ]
  },
  {
   "cell_type": "markdown",
   "metadata": {},
   "source": [
    "### Title Model Concept\n",
    "\n",
    "As seen above, the text based prediction model is quite time intensive. This model is checking whether a model using only the title of the article has a sufficient accuracy."
   ]
  },
  {
   "cell_type": "code",
   "execution_count": 147,
   "metadata": {},
   "outputs": [
    {
     "name": "stdout",
     "output_type": "stream",
     "text": [
      "[[1553  162]\n",
      " [  78 1541]]\n",
      "[[1556  135]\n",
      " [  98 1544]]\n",
      "[[1565  162]\n",
      " [  78 1528]]\n",
      "Time to run: 16.68315815925598\n"
     ]
    },
    {
     "data": {
      "image/png": "[encoded data removed]",
      "text/plain": [
       "<Figure size 432x288 with 1 Axes>"
      ]
     },
     "metadata": {
      "needs_background": "light"
     },
     "output_type": "display_data"
    }
   ],
   "source": [
    "text_start = time.time() ## start timer\n",
    "\n",
    "title_features = vectorizer.fit_transform(df_sample['title'])\n",
    "labels = df['label']\n",
    "\n",
    "precision_real, recall_real  = 0, 0 \n",
    "precision_fake, recall_fake = 0, 0\n",
    "\n",
    "for train, test in kf.split(title_features):\n",
    "    model = SVC()\n",
    "    model.fit(title_features[train], labels.iloc[train]) # trains the data  \n",
    "    predicts =  model.predict(title_features[test])  # tests and predicts        \n",
    "    \n",
    "    print(metrics.confusion_matrix(labels[test].tolist(), predicts))\n",
    "\n",
    "    report = classification_report(labels[test], predicts, output_dict=True)\n",
    "    precision_real += report.get('REAL').get('precision')\n",
    "    recall_real += report.get('REAL').get('recall')\n",
    "    precision_fake += report.get('FAKE').get('precision')\n",
    "    recall_fake += report.get('FAKE').get('recall')\n",
    "    \n",
    "# calculate avg precision and recall from the n random samples\n",
    "precision_real /= splits\n",
    "precision_fake /= splits\n",
    "recall_real /= splits\n",
    "recall_fake /= splits\n",
    "\n",
    "text_end = time.time()\n",
    "print(\"Time to run:\", text_end - text_start)\n",
    "\n",
    "# Avg Precision-Accuracy graph ----------------------------------------------------------------------\n",
    "labels = ['Precision', 'Recall']\n",
    "decimal_places = 3\n",
    "real = (round(precision_real, decimal_places), round(recall_real, decimal_places))\n",
    "fake = (round(precision_fake, decimal_places), round(recall_fake, decimal_places))\n",
    "\n",
    "x = np.arange(len(labels))  # the label locations\n",
    "width = 0.35  # the width of the bars\n",
    "\n",
    "fig, ax = plt.subplots()\n",
    "rects1 = ax.bar(x - width/2, real, width, label='Real')\n",
    "rects2 = ax.bar(x + width/2, fake, width, label='Fake')\n",
    "\n",
    "ax.set_ylabel('Percent (%)')\n",
    "ax.set_title('Fake News Title Model Accuracy by Label')\n",
    "ax.set_xticks(x)\n",
    "ax.set_xticklabels(labels)\n",
    "ax.legend()\n",
    "\n",
    "def autolabel(rects):\n",
    "    for rect in rects:\n",
    "        height = rect.get_height()\n",
    "        ax.annotate('{}'.format(height),\n",
    "                    xy=(rect.get_x() + rect.get_width() / 2, height),\n",
    "                    xytext=(0, -20),  # 3 points vertical offset\n",
    "                    textcoords=\"offset points\",\n",
    "                    ha='center', va='bottom')\n",
    "\n",
    "autolabel(rects1)\n",
    "autolabel(rects2)\n",
    "fig.tight_layout()\n",
    "plt.show()"
   ]
  },
  {
   "cell_type": "markdown",
   "metadata": {},
   "source": [
    "**After testing each of the models multiple times, we find the accuracy to be sufficient for our intended purposes.**"
   ]
  },
  {
   "cell_type": "markdown",
   "metadata": {},
   "source": [
    "# Creating Models"
   ]
  },
  {
   "cell_type": "code",
   "execution_count": 188,
   "metadata": {},
   "outputs": [],
   "source": [
    "df_final = df.head(1000)\n",
    "final_labels = df_final['label']"
   ]
  },
  {
   "cell_type": "code",
   "execution_count": null,
   "metadata": {},
   "outputs": [],
   "source": [
    "def train_text__model():\n",
    "    model = SVC()\n",
    "    model.fit(vectorizer.fit_transform(df_sample['text']), df_sample['label'])\n",
    "    return model\n",
    "\n",
    "text_model = train_text__model()\n",
    "\n",
    "print(\"Model based on article text created.\")"
   ]
  },
  {
   "cell_type": "code",
   "execution_count": 174,
   "metadata": {},
   "outputs": [
    {
     "name": "stdout",
     "output_type": "stream",
     "text": [
      "Model based on article title created.\n"
     ]
    }
   ],
   "source": [
    "title_features = vectorizer.fit_transform(df_final['title'])\n",
    "title_model = SVC()\n",
    "title_model.fit(title_features, final_labels)\n",
    "\n",
    "print(\"Model based on article title created.\")"
   ]
  },
  {
   "cell_type": "markdown",
   "metadata": {},
   "source": [
    "# Web Scraping and Formatting"
   ]
  },
  {
   "cell_type": "code",
   "execution_count": 178,
   "metadata": {},
   "outputs": [],
   "source": [
    "from bs4 import BeautifulSoup\n",
    "from bs4.element import Comment\n",
    "import urllib.request\n",
    "\n",
    "def tag_visible(element):\n",
    "    if element.parent.name in ['style', 'script', 'head', 'title', 'meta', '[document]']:\n",
    "        return False\n",
    "    if isinstance(element, Comment):\n",
    "        return False\n",
    "    return True\n",
    "\n",
    "def text_from_html(body):\n",
    "    soup = BeautifulSoup(body, 'html.parser')\n",
    "    texts = soup.findAll(text=True)\n",
    "    visible_texts = filter(tag_visible, texts)  \n",
    "    return u\" \".join(t.strip() for t in visible_texts)"
   ]
  },
  {
   "cell_type": "markdown",
   "metadata": {},
   "source": [
    "# Test Article by Text"
   ]
  },
  {
   "cell_type": "code",
   "execution_count": 184,
   "metadata": {},
   "outputs": [
    {
     "ename": "ValueError",
     "evalue": "X.shape[1] = 13231 should be equal to 99013, the number of features at training time",
     "output_type": "error",
     "traceback": [
      "\u001b[0;31m---------------------------------------------------------------------------\u001b[0m",
      "\u001b[0;31mValueError\u001b[0m                                Traceback (most recent call last)",
      "\u001b[0;32m<ipython-input-184-ca14c5919945>\u001b[0m in \u001b[0;36m<module>\u001b[0;34m\u001b[0m\n\u001b[1;32m     14\u001b[0m \u001b[0;34m\u001b[0m\u001b[0m\n\u001b[1;32m     15\u001b[0m \u001b[0marticle_text\u001b[0m \u001b[0;34m=\u001b[0m \u001b[0mvectorizer\u001b[0m\u001b[0;34m.\u001b[0m\u001b[0mtransform\u001b[0m\u001b[0;34m(\u001b[0m\u001b[0mdf2\u001b[0m\u001b[0;34m[\u001b[0m\u001b[0;34m'text'\u001b[0m\u001b[0;34m]\u001b[0m\u001b[0;34m)\u001b[0m\u001b[0;34m\u001b[0m\u001b[0;34m\u001b[0m\u001b[0m\n\u001b[0;32m---> 16\u001b[0;31m \u001b[0mresult\u001b[0m \u001b[0;34m=\u001b[0m \u001b[0mtext_model\u001b[0m\u001b[0;34m.\u001b[0m\u001b[0mpredict\u001b[0m\u001b[0;34m(\u001b[0m\u001b[0marticle_text\u001b[0m\u001b[0;34m)\u001b[0m\u001b[0;34m\u001b[0m\u001b[0;34m\u001b[0m\u001b[0m\n\u001b[0m\u001b[1;32m     17\u001b[0m \u001b[0;34m\u001b[0m\u001b[0m\n\u001b[1;32m     18\u001b[0m \u001b[0;31m# if result == ['FAKE']:\u001b[0m\u001b[0;34m\u001b[0m\u001b[0;34m\u001b[0m\u001b[0;34m\u001b[0m\u001b[0m\n",
      "\u001b[0;32m~/opt/anaconda3/lib/python3.8/site-packages/sklearn/svm/_base.py\u001b[0m in \u001b[0;36mpredict\u001b[0;34m(self, X)\u001b[0m\n\u001b[1;32m    613\u001b[0m             \u001b[0my\u001b[0m \u001b[0;34m=\u001b[0m \u001b[0mnp\u001b[0m\u001b[0;34m.\u001b[0m\u001b[0margmax\u001b[0m\u001b[0;34m(\u001b[0m\u001b[0mself\u001b[0m\u001b[0;34m.\u001b[0m\u001b[0mdecision_function\u001b[0m\u001b[0;34m(\u001b[0m\u001b[0mX\u001b[0m\u001b[0;34m)\u001b[0m\u001b[0;34m,\u001b[0m \u001b[0maxis\u001b[0m\u001b[0;34m=\u001b[0m\u001b[0;36m1\u001b[0m\u001b[0;34m)\u001b[0m\u001b[0;34m\u001b[0m\u001b[0;34m\u001b[0m\u001b[0m\n\u001b[1;32m    614\u001b[0m         \u001b[0;32melse\u001b[0m\u001b[0;34m:\u001b[0m\u001b[0;34m\u001b[0m\u001b[0;34m\u001b[0m\u001b[0m\n\u001b[0;32m--> 615\u001b[0;31m             \u001b[0my\u001b[0m \u001b[0;34m=\u001b[0m \u001b[0msuper\u001b[0m\u001b[0;34m(\u001b[0m\u001b[0;34m)\u001b[0m\u001b[0;34m.\u001b[0m\u001b[0mpredict\u001b[0m\u001b[0;34m(\u001b[0m\u001b[0mX\u001b[0m\u001b[0;34m)\u001b[0m\u001b[0;34m\u001b[0m\u001b[0;34m\u001b[0m\u001b[0m\n\u001b[0m\u001b[1;32m    616\u001b[0m         \u001b[0;32mreturn\u001b[0m \u001b[0mself\u001b[0m\u001b[0;34m.\u001b[0m\u001b[0mclasses_\u001b[0m\u001b[0;34m.\u001b[0m\u001b[0mtake\u001b[0m\u001b[0;34m(\u001b[0m\u001b[0mnp\u001b[0m\u001b[0;34m.\u001b[0m\u001b[0masarray\u001b[0m\u001b[0;34m(\u001b[0m\u001b[0my\u001b[0m\u001b[0;34m,\u001b[0m \u001b[0mdtype\u001b[0m\u001b[0;34m=\u001b[0m\u001b[0mnp\u001b[0m\u001b[0;34m.\u001b[0m\u001b[0mintp\u001b[0m\u001b[0;34m)\u001b[0m\u001b[0;34m)\u001b[0m\u001b[0;34m\u001b[0m\u001b[0;34m\u001b[0m\u001b[0m\n\u001b[1;32m    617\u001b[0m \u001b[0;34m\u001b[0m\u001b[0m\n",
      "\u001b[0;32m~/opt/anaconda3/lib/python3.8/site-packages/sklearn/svm/_base.py\u001b[0m in \u001b[0;36mpredict\u001b[0;34m(self, X)\u001b[0m\n\u001b[1;32m    331\u001b[0m         \u001b[0my_pred\u001b[0m \u001b[0;34m:\u001b[0m \u001b[0mndarray\u001b[0m \u001b[0mof\u001b[0m \u001b[0mshape\u001b[0m \u001b[0;34m(\u001b[0m\u001b[0mn_samples\u001b[0m\u001b[0;34m,\u001b[0m\u001b[0;34m)\u001b[0m\u001b[0;34m\u001b[0m\u001b[0;34m\u001b[0m\u001b[0m\n\u001b[1;32m    332\u001b[0m         \"\"\"\n\u001b[0;32m--> 333\u001b[0;31m         \u001b[0mX\u001b[0m \u001b[0;34m=\u001b[0m \u001b[0mself\u001b[0m\u001b[0;34m.\u001b[0m\u001b[0m_validate_for_predict\u001b[0m\u001b[0;34m(\u001b[0m\u001b[0mX\u001b[0m\u001b[0;34m)\u001b[0m\u001b[0;34m\u001b[0m\u001b[0;34m\u001b[0m\u001b[0m\n\u001b[0m\u001b[1;32m    334\u001b[0m         \u001b[0mpredict\u001b[0m \u001b[0;34m=\u001b[0m \u001b[0mself\u001b[0m\u001b[0;34m.\u001b[0m\u001b[0m_sparse_predict\u001b[0m \u001b[0;32mif\u001b[0m \u001b[0mself\u001b[0m\u001b[0;34m.\u001b[0m\u001b[0m_sparse\u001b[0m \u001b[0;32melse\u001b[0m \u001b[0mself\u001b[0m\u001b[0;34m.\u001b[0m\u001b[0m_dense_predict\u001b[0m\u001b[0;34m\u001b[0m\u001b[0;34m\u001b[0m\u001b[0m\n\u001b[1;32m    335\u001b[0m         \u001b[0;32mreturn\u001b[0m \u001b[0mpredict\u001b[0m\u001b[0;34m(\u001b[0m\u001b[0mX\u001b[0m\u001b[0;34m)\u001b[0m\u001b[0;34m\u001b[0m\u001b[0;34m\u001b[0m\u001b[0m\n",
      "\u001b[0;32m~/opt/anaconda3/lib/python3.8/site-packages/sklearn/svm/_base.py\u001b[0m in \u001b[0;36m_validate_for_predict\u001b[0;34m(self, X)\u001b[0m\n\u001b[1;32m    482\u001b[0m                                  (X.shape[1], self.shape_fit_[0]))\n\u001b[1;32m    483\u001b[0m         \u001b[0;32melif\u001b[0m \u001b[0;32mnot\u001b[0m \u001b[0mcallable\u001b[0m\u001b[0;34m(\u001b[0m\u001b[0mself\u001b[0m\u001b[0;34m.\u001b[0m\u001b[0mkernel\u001b[0m\u001b[0;34m)\u001b[0m \u001b[0;32mand\u001b[0m \u001b[0mX\u001b[0m\u001b[0;34m.\u001b[0m\u001b[0mshape\u001b[0m\u001b[0;34m[\u001b[0m\u001b[0;36m1\u001b[0m\u001b[0;34m]\u001b[0m \u001b[0;34m!=\u001b[0m \u001b[0mself\u001b[0m\u001b[0;34m.\u001b[0m\u001b[0mshape_fit_\u001b[0m\u001b[0;34m[\u001b[0m\u001b[0;36m1\u001b[0m\u001b[0;34m]\u001b[0m\u001b[0;34m:\u001b[0m\u001b[0;34m\u001b[0m\u001b[0;34m\u001b[0m\u001b[0m\n\u001b[0;32m--> 484\u001b[0;31m             raise ValueError(\"X.shape[1] = %d should be equal to %d, \"\n\u001b[0m\u001b[1;32m    485\u001b[0m                              \u001b[0;34m\"the number of features at training time\"\u001b[0m \u001b[0;34m%\u001b[0m\u001b[0;34m\u001b[0m\u001b[0;34m\u001b[0m\u001b[0m\n\u001b[1;32m    486\u001b[0m                              (X.shape[1], self.shape_fit_[1]))\n",
      "\u001b[0;31mValueError\u001b[0m: X.shape[1] = 13231 should be equal to 99013, the number of features at training time"
     ]
    }
   ],
   "source": [
    "article = 'https://www.cnn.com/2020/08/12/politics/kamala-harris-pronunciation/index.html'\n",
    "# article = input(\"Copy and Paste article url: \")\n",
    "try:\n",
    "    html = urllib.request.urlopen(article).read()\n",
    "    soup = BeautifulSoup(html, 'html.parser')\n",
    "    text = soup.get_text().strip()\n",
    "except: # if website blocks  from scraping, ask user for title of website\n",
    "    print('Unable to access url of article.')\n",
    "    title = input(\"Copy and paste Title Name: \")\n",
    "    text = input(\"Copy and paste Article Text: \")\n",
    "\n",
    "    data = [[text.lstrip()]]\n",
    "df2 = pd.DataFrame(data, columns = ['text'])\n",
    "\n",
    "article_text = vectorizer.transform(df2['text'])\n",
    "result = text_model.predict(article_text)\n",
    "\n",
    "# if result == ['FAKE']:\n",
    "#     print ('This article is fake. Find a better source.')\n",
    "# elif result == ['REAL']:\n",
    "#     print ('This article is real. You can trust this source.')\n",
    "# else:\n",
    "#     print ('There is an error.')"
   ]
  },
  {
   "cell_type": "markdown",
   "metadata": {},
   "source": [
    "# Test Article by Title"
   ]
  },
  {
   "cell_type": "code",
   "execution_count": 15,
   "metadata": {},
   "outputs": [
    {
     "name": "stdout",
     "output_type": "stream",
     "text": [
      "Copy and Paste article url: https://www.cnn.com/2020/08/12/politics/kamala-harris-pronunciation/index.html\n"
     ]
    }
   ],
   "source": [
    "try:\n",
    "    html = urllib.request.urlopen(input(\"Copy and Paste article url: \")).read()\n",
    "    soup = BeautifulSoup(html, 'html.parser')\n",
    "    title = soup.find('title').get_text()\n",
    "    text = html_to_text(html)\n",
    "except: # if website blocks  from scraping, ask user for title of website\n",
    "    print('Unable to access url of article.')\n",
    "    title = input(\"Copy and Paste Title Name: \")\n",
    "    text = input(\"Copy and Paste Article Text: \")\n",
    "    \n",
    "    \n",
    "data = [[title]]\n",
    "df2 = pd.DataFrame(data, columns = ['title'])\n",
    "\n",
    "\n",
    "article_title = vectorizer.transform(df2['title'])\n",
    "result2 = text_model.predict(article_title)"
   ]
  },
  {
   "cell_type": "code",
   "execution_count": 16,
   "metadata": {},
   "outputs": [
    {
     "name": "stdout",
     "output_type": "stream",
     "text": [
      "This article is real. You can trust this source.\n"
     ]
    }
   ],
   "source": [
    "if result2 == ['FAKE']:\n",
    "    print ('This article is fake. Find a better source.')\n",
    "elif result2 == ['REAL']:\n",
    "    print ('This article is real. You can trust this source.')\n",
    "else:\n",
    "    print ('There is an error.')"
   ]
  }
 ],
 "metadata": {
  "kernelspec": {
   "display_name": "Python 3",
   "language": "python",
   "name": "python3"
  },
  "language_info": {
   "codemirror_mode": {
    "name": "ipython",
    "version": 3
   },
   "file_extension": ".py",
   "mimetype": "text/x-python",
   "name": "python",
   "nbconvert_exporter": "python",
   "pygments_lexer": "ipython3",
   "version": "3.8.3"
  }
 },
 "nbformat": 4,
 "nbformat_minor": 4
}
